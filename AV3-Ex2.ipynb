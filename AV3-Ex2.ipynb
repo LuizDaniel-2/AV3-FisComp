{
 "cells": [
  {
   "cell_type": "markdown",
   "metadata": {},
   "source": [
    "### Exercício 2"
   ]
  },
  {
   "cell_type": "markdown",
   "metadata": {},
   "source": [
    "Durante 2 dias consecutivos, você deverá registrar suas atividades diárias em intervalos de 30 minutos. Para cada intervalo, anote a atividade principal que estava realizando. Você pode usar categorias como:\n",
    "\n",
    "- Estudo\n",
    "\n",
    "- Trabalho\n",
    "\n",
    "- Redes sociais\n",
    "\n",
    "- Sono\n",
    "\n",
    "- Alimentação\n",
    "\n",
    "- Transporte\n",
    "\n",
    "- Lazer\n",
    "\n",
    "- Atividades físicas\n",
    "\n",
    "- Tarefas domésticas\n",
    "\n",
    "- Outros\n",
    "\n",
    "Prepare formas (ao menos 2) de visualizar melhor esses dados e apresente. Como você considera que está ocupando o seu dia?\n",
    "\n",
    " \n",
    "\n",
    "Você pode registrar os dados em papel, planilhas ou aplicativos simples de anotações."
   ]
  },
  {
   "cell_type": "code",
   "execution_count": null,
   "metadata": {},
   "outputs": [],
   "source": []
  }
 ],
 "metadata": {
  "language_info": {
   "name": "python"
  }
 },
 "nbformat": 4,
 "nbformat_minor": 2
}
